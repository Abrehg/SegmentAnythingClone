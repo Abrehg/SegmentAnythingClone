{
 "cells": [
  {
   "cell_type": "code",
   "execution_count": 1,
   "metadata": {},
   "outputs": [
    {
     "name": "stdout",
     "output_type": "stream",
     "text": [
      "Metal device set to: Apple M2 Max\n",
      "\n",
      "systemMemory: 32.00 GB\n",
      "maxCacheSize: 10.67 GB\n",
      "\n"
     ]
    },
    {
     "name": "stderr",
     "output_type": "stream",
     "text": [
      "2023-10-27 16:36:50.939611: I tensorflow/core/common_runtime/pluggable_device/pluggable_device_factory.cc:303] Could not identify NUMA node of platform GPU ID 0, defaulting to 0. Your kernel may not have been built with NUMA support.\n",
      "2023-10-27 16:36:50.939649: I tensorflow/core/common_runtime/pluggable_device/pluggable_device_factory.cc:269] Created TensorFlow device (/job:localhost/replica:0/task:0/device:GPU:0 with 0 MB memory) -> physical PluggableDevice (device: 0, name: METAL, pci bus id: <undefined>)\n"
     ]
    },
    {
     "name": "stdout",
     "output_type": "stream",
     "text": [
      "118/144 [=======================>......] - ETA: 0s"
     ]
    },
    {
     "name": "stderr",
     "output_type": "stream",
     "text": [
      "2023-10-27 16:39:16.734596: I tensorflow/core/grappler/optimizers/custom_graph_optimizer_registry.cc:114] Plugin optimizer for device_type GPU is enabled.\n"
     ]
    },
    {
     "name": "stdout",
     "output_type": "stream",
     "text": [
      "144/144 [==============================] - 0s 1ms/step\n",
      "tf.Tensor([   1   51   90 1024], shape=(4,), dtype=int32)\n",
      "KerasTensor(type_spec=TensorSpec(shape=(4,), dtype=tf.int32, name=None), inferred_value=[None, None, None, 1024], name='tf.compat.v1.shape_4/Shape:0', description=\"created by layer 'tf.compat.v1.shape_4'\")\n",
      "Model: \"model_4\"\n",
      "__________________________________________________________________________________________________\n",
      " Layer (type)                Output Shape                 Param #   Connected to                  \n",
      "==================================================================================================\n",
      " img_encodings (InputLayer)  [(None, None, None, 1024)]   0         []                            \n",
      "                                                                                                  \n",
      " text_encodings (InputLayer  [(None, None, 300)]          0         []                            \n",
      " )                                                                                                \n",
      "                                                                                                  \n",
      " model_2 (Functional)        (None, None, None, 1024)     2172334   ['img_encodings[0][0]']       \n",
      "                                                          08                                      \n",
      "                                                                                                  \n",
      " model_3 (Functional)        (None, None, 300)            1868220   ['text_encodings[0][0]']      \n",
      "                                                          0                                       \n",
      "                                                                                                  \n",
      " multi_head_attention_14 (M  (None, None, None, 1024)     7555379   ['model_2[0][0]',             \n",
      " ultiHeadAttention)                                       2          'model_2[0][0]']             \n",
      "                                                                                                  \n",
      " dense_63 (Dense)            (None, None, 1024)           308224    ['model_3[0][0]']             \n",
      "                                                                                                  \n",
      " tf.linalg.matmul (TFOpLamb  (None, None, None, None)     0         ['multi_head_attention_14[0][0\n",
      " da)                                                                ]',                           \n",
      "                                                                     'dense_63[0][0]']            \n",
      "                                                                                                  \n",
      " tf.linalg.matmul_1 (TFOpLa  (None, None, None, 1024)     0         ['tf.linalg.matmul[0][0]',    \n",
      " mbda)                                                               'dense_63[0][0]']            \n",
      "                                                                                                  \n",
      " layer_normalization_25 (La  (None, None, None, 1024)     2048      ['tf.linalg.matmul_1[0][0]']  \n",
      " yerNormalization)                                                                                \n",
      "                                                                                                  \n",
      " multi_head_attention_15 (M  (None, None, None, 1024)     8394854   ['layer_normalization_25[0][0]\n",
      " ultiHeadAttention)                                       4         ',                            \n",
      "                                                                     'layer_normalization_25[0][0]\n",
      "                                                                    ']                            \n",
      "                                                                                                  \n",
      " conv2d_transpose_4 (Conv2D  (None, None, None, 512)      4719104   ['multi_head_attention_15[0][0\n",
      " Transpose)                                                         ]']                           \n",
      "                                                                                                  \n",
      " conv2d_transpose_5 (Conv2D  (None, None, None, 256)      1179904   ['conv2d_transpose_4[0][0]']  \n",
      " Transpose)                                                                                       \n",
      "                                                                                                  \n",
      " conv2d_transpose_6 (Conv2D  (None, None, None, 128)      295040    ['conv2d_transpose_5[0][0]']  \n",
      " Transpose)                                                                                       \n",
      "                                                                                                  \n",
      " conv2d_transpose_7 (Conv2D  (None, None, None, 1)        1153      ['conv2d_transpose_6[0][0]']  \n",
      " Transpose)                                                                                       \n",
      "                                                                                                  \n",
      "==================================================================================================\n",
      "Total params: 401923417 (1.50 GB)\n",
      "Trainable params: 401923417 (1.50 GB)\n",
      "Non-trainable params: 0 (0.00 Byte)\n",
      "__________________________________________________________________________________________________\n",
      "None\n",
      "tf.Tensor([512 683   3], shape=(3,), dtype=int32)\n",
      "43/43 [==============================] - 0s 2ms/step\n"
     ]
    },
    {
     "name": "stderr",
     "output_type": "stream",
     "text": [
      "2023-10-27 16:39:55.223866: I tensorflow/core/grappler/optimizers/custom_graph_optimizer_registry.cc:114] Plugin optimizer for device_type GPU is enabled.\n"
     ]
    },
    {
     "name": "stdout",
     "output_type": "stream",
     "text": [
      "1/1 [==============================] - 5s 5s/step\n",
      "tf.Tensor([  1 512 688   1], shape=(4,), dtype=int32)\n",
      "model compiled\n"
     ]
    }
   ],
   "source": [
    "import tensorflow as tf\n",
    "import optuna\n",
    "from tensorflow import keras as keras\n",
    "from keras import layers as tfl\n",
    "from model import model"
   ]
  },
  {
   "cell_type": "code",
   "execution_count": null,
   "metadata": {},
   "outputs": [],
   "source": []
  }
 ],
 "metadata": {
  "kernelspec": {
   "display_name": "MLenv",
   "language": "python",
   "name": "python3"
  },
  "language_info": {
   "codemirror_mode": {
    "name": "ipython",
    "version": 3
   },
   "file_extension": ".py",
   "mimetype": "text/x-python",
   "name": "python",
   "nbconvert_exporter": "python",
   "pygments_lexer": "ipython3",
   "version": "3.9.16"
  },
  "orig_nbformat": 4
 },
 "nbformat": 4,
 "nbformat_minor": 2
}
